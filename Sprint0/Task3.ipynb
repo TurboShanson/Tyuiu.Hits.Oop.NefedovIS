{
 "cells": [
  {
   "cell_type": "markdown",
   "metadata": {},
   "source": [
    "<h1 style=\"color:DodgerBlue\">Индивидальный проект</h1>"
   ]
  },
  {
   "cell_type": "markdown",
   "metadata": {},
   "source": [
    "<h2 style=\"color:DodgerBlue\">Название проекта:</h2>\n",
    "<h3><b>Антон Чигур никого не убивал</b></h3>\n",
    "\n",
    "### Вариант задания \n",
    "Вариант 19"
   ]
  },
  {
   "cell_type": "markdown",
   "metadata": {},
   "source": [
    "<h2 style=\"color:DodgerBlue\">Описание проекта:</h2>\n",
    "\n",
    "----\n",
    "\n",
    "Проект представляет собой систему управления подписками на различные сервисы. Он моделирует работу с разными видами подписок, такими как онлайн-сервисы, стриминговые платформы и видеосервисы. \"Антон Чигур никого не убивал\" позволяет рассчитывать ежемесячную стоимость подписки и получать подробную информацию о параметрах, включая количество пользователей, число одновременных потоков или качество видео.\n",
    "\n",
    "\n"
   ]
  },
  {
   "cell_type": "markdown",
   "metadata": {},
   "source": [
    "<h2 style=\"color:DodgerBlue\">Реализация:</h2>\n",
    "\n",
    "----"
   ]
  },
  {
   "cell_type": "code",
   "execution_count": 26,
   "metadata": {
    "dotnet_interactive": {
     "language": "csharp"
    },
    "polyglot_notebook": {
     "kernelName": "csharp"
    }
   },
   "outputs": [],
   "source": [
    "// Базовый класс\n",
    "using System;\n",
    "\n",
    "class Subscription\n",
    "{\n",
    "    public int SubscriptionId { get; set; }\n",
    "    public string ServiceName { get; set; }\n",
    "    public decimal Cost { get; set; }\n",
    "\n",
    "    public Subscription(int id, string name, decimal cost)\n",
    "    {\n",
    "        SubscriptionId = id;\n",
    "        ServiceName = name;\n",
    "        Cost = cost;\n",
    "    }\n",
    "\n",
    "    public virtual decimal CalculateMonthlyCost()\n",
    "    {\n",
    "        return Cost;\n",
    "    }\n",
    "\n",
    "    public virtual void ExtendSubscription(int months)\n",
    "    {\n",
    "        Console.WriteLine($\"Подписка '{ServiceName}' продлена на {months} мес.\");\n",
    "    }\n",
    "\n",
    "    public virtual string GetSubscriptionDetails()\n",
    "    {\n",
    "        return $\"ID: {SubscriptionId}, Сервис: {ServiceName}, Стоимость: {Cost} руб/мес.\";\n",
    "    }\n",
    "}\n"
   ]
  },
  {
   "cell_type": "code",
   "execution_count": null,
   "metadata": {
    "language_info": {
     "name": "polyglot-notebook"
    },
    "polyglot_notebook": {
     "kernelName": "csharp"
    }
   },
   "outputs": [],
   "source": [
    "// 1. Подписка на онлайн-сервис\n",
    "class OnlineServiceSubscription : Subscription\n",
    "{\n",
    "    public int MaxUsers { get; set; }\n",
    "\n",
    "    public OnlineServiceSubscription(int id, string name, decimal cost, int maxUsers)\n",
    "        : base(id, name, cost)\n",
    "    {\n",
    "        MaxUsers = maxUsers;\n",
    "    }\n",
    "\n",
    "    public override decimal CalculateMonthlyCost()\n",
    "    {\n",
    "        return Cost * MaxUsers;\n",
    "    }\n",
    "\n",
    "    public override string GetSubscriptionDetails()\n",
    "    {\n",
    "        return base.GetSubscriptionDetails() + $\", Пользователи: {MaxUsers}\";\n",
    "    }\n",
    "}\n"
   ]
  },
  {
   "cell_type": "code",
   "execution_count": 28,
   "metadata": {
    "language_info": {
     "name": "polyglot-notebook"
    },
    "polyglot_notebook": {
     "kernelName": "csharp"
    }
   },
   "outputs": [],
   "source": [
    "// 2. Подписка на стриминг\n",
    "class StreamingSubscription : Subscription\n",
    "{\n",
    "    public int MaxStreams { get; set; }\n",
    "\n",
    "    public StreamingSubscription(int id, string name, decimal cost, int maxStreams)\n",
    "        : base(id, name, cost)\n",
    "    {\n",
    "        MaxStreams = maxStreams;\n",
    "    }\n",
    "\n",
    "    public override void ExtendSubscription(int months)\n",
    "    {\n",
    "        Console.WriteLine($\"Подписка '{ServiceName}' продлена на {months} мес. + бонус 1 месяц бесплатно!\");\n",
    "    }\n",
    "\n",
    "    public override string GetSubscriptionDetails()\n",
    "    {\n",
    "        return base.GetSubscriptionDetails() + $\", Потоков: {MaxStreams}\";\n",
    "    }\n",
    "}\n"
   ]
  },
  {
   "cell_type": "code",
   "execution_count": 29,
   "metadata": {
    "language_info": {
     "name": "polyglot-notebook"
    },
    "polyglot_notebook": {
     "kernelName": "csharp"
    }
   },
   "outputs": [],
   "source": [
    "// 3. Подписка на видео\n",
    "class VideoSubscription : Subscription\n",
    "{\n",
    "    public string VideoQuality { get; set; }\n",
    "\n",
    "    public VideoSubscription(int id, string name, decimal cost, string quality)\n",
    "        : base(id, name, cost)\n",
    "    {\n",
    "        VideoQuality = quality;\n",
    "    }\n",
    "\n",
    "    public override string GetSubscriptionDetails()\n",
    "    {\n",
    "        return base.GetSubscriptionDetails() + $\", Качество видео: {VideoQuality}\";\n",
    "    }\n",
    "}\n"
   ]
  },
  {
   "cell_type": "code",
   "execution_count": 30,
   "metadata": {
    "language_info": {
     "name": "polyglot-notebook"
    },
    "polyglot_notebook": {
     "kernelName": "csharp"
    }
   },
   "outputs": [
    {
     "name": "stdout",
     "output_type": "stream",
     "text": [
      "ID: 1, Сервис: Office 365, Стоимость: 500 руб/мес., Пользователи: 3\n",
      "Ежемесячная стоимость: 1500 руб.\\n\n",
      "ID: 2, Сервис: Netflix, Стоимость: 700 руб/мес., Потоков: 2\n",
      "Подписка 'Netflix' продлена на 6 мес. + бонус 1 месяц бесплатно!\n",
      "Ежемесячная стоимость: 700 руб.\\n\n",
      "ID: 3, Сервис: YouTube Premium, Стоимость: 300 руб/мес., Качество видео: 4K\n",
      "Подписка 'YouTube Premium' продлена на 12 мес.\n",
      "Ежемесячная стоимость: 300 руб.\\n\n"
     ]
    }
   ],
   "source": [
    "Subscription online = new OnlineServiceSubscription(1, \"Office 365\", 500, 3);\n",
    "Subscription streaming = new StreamingSubscription(2, \"Netflix\", 700, 2);\n",
    "Subscription video = new VideoSubscription(3, \"YouTube Premium\", 300, \"4K\");\n",
    "\n",
    "Console.WriteLine(online.GetSubscriptionDetails());\n",
    "Console.WriteLine($\"Ежемесячная стоимость: {online.CalculateMonthlyCost()} руб.\\\\n\");\n",
    "\n",
    "Console.WriteLine(streaming.GetSubscriptionDetails());\n",
    "streaming.ExtendSubscription(6);\n",
    "Console.WriteLine($\"Ежемесячная стоимость: {streaming.CalculateMonthlyCost()} руб.\\\\n\");\n",
    "\n",
    "Console.WriteLine(video.GetSubscriptionDetails());\n",
    "video.ExtendSubscription(12);\n",
    "Console.WriteLine($\"Ежемесячная стоимость: {video.CalculateMonthlyCost()} руб.\\\\n\");\n"
   ]
  }
 ],
 "metadata": {
  "kernelspec": {
   "display_name": ".NET (C#)",
   "language": "C#",
   "name": ".net-csharp"
  },
  "polyglot_notebook": {
   "kernelInfo": {
    "defaultKernelName": "csharp",
    "items": [
     {
      "aliases": [],
      "languageName": "csharp",
      "name": "csharp"
     }
    ]
   }
  }
 },
 "nbformat": 4,
 "nbformat_minor": 2
}
